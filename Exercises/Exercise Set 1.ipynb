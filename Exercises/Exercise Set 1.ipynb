{
 "cells": [
  {
   "cell_type": "markdown",
   "metadata": {},
   "source": [
    "# Qiskit Exercise List 1"
   ]
  },
  {
   "cell_type": "markdown",
   "metadata": {
    "id": "pEWBtcJiGFrc"
   },
   "source": [
    "## Exercise 1"
   ]
  },
  {
   "cell_type": "markdown",
   "metadata": {},
   "source": [
    "(a)  Build a quantum circuit that creates the following three-qubits state\n",
    "\n",
    "$$| \\psi \\rangle = \\frac{1}{\\sqrt{3}} (|100 \\rangle + | 010 \\rangle + | 001 \\rangle), $$\n",
    "\n",
    "without using the `QuantumCircuit.initialize()` method. Use the `Statevector` class to check that your circuit corresponds to the desired state $|\\psi \\rangle$. Then, obtain a circuit that prepares the same state, but using only the basis gate set $\\{ CX, RZ, SX, X \\}$."
   ]
  },
  {
   "cell_type": "markdown",
   "metadata": {},
   "source": [
    "(b) Using the Qiskit Aer Simulator, measure the circuit in the $Z$ basis using 8192 shots. Plot the probability distributions (i.e. the counts) in a histogram plot."
   ]
  },
  {
   "cell_type": "markdown",
   "metadata": {},
   "source": [
    "(c) Build the following noise models:\n",
    "\n",
    "* Noise model that adds a bit-flip channel with $20\\%$ error to all measurements (Do not mistake with the ReadoutError).\n",
    "* Noise model that adds a depolarazing channel with $10\\%$ error to the CNOT gate.\n",
    "\n",
    "Repeat exercise (b) using both models noise model, displaying all experiments in the same histogram plot."
   ]
  },
  {
   "cell_type": "markdown",
   "metadata": {},
   "source": [
    "## Exercise 2"
   ]
  },
  {
   "cell_type": "markdown",
   "metadata": {
    "id": "kcJeW7ENtLpQ"
   },
   "source": [
    "(a) Define a function that has as input the number of qubits $N$, and outputs a quantum circuit that implements the $N$-qubits GHZ-state given by\n",
    "\n",
    "$$|GHZ_N \\rangle = \\frac{1}{\\sqrt N} (|0 \\rangle^{\\otimes N} + |1 \\rangle^{\\otimes N}) = \\frac{1}{\\sqrt N} (|0 \\ldots 0 \\rangle + |1 \\ldots 1 \\rangle).$$"
   ]
  },
  {
   "cell_type": "code",
   "execution_count": 42,
   "metadata": {},
   "outputs": [],
   "source": [
    "# Complete the function below to create a GHZ state of N qubits\n",
    "\n",
    "#def ghz_state(N):\n",
    "    #qc = QuantumCircuit(N)\n",
    "\n",
    "#    return qc"
   ]
  },
  {
   "cell_type": "markdown",
   "metadata": {},
   "source": [
    "(b) Let us consider the following `FakeProvider`'s from Qiskit IBM Runtime: `FakeQuitoV2` and `FakeOslo`. Using the function of exercise (a)\n",
    "\n",
    "* Perform a simulation of the 5 qubits GHZ-state using 8192 shots using the `FakeQuitoV2` backend.\n",
    "* Perform a simulation of the 7 qubits GHZ-state using 8192 shots using the `FakeOslo` backend.\n",
    "\n",
    "For each cases, set the transpile `optimization_level` to 0 (trivial transpilation), and count the number of CNOT gates after transpilation. Plot the probability distributions in a histogram plot in descending order. "
   ]
  },
  {
   "cell_type": "markdown",
   "metadata": {},
   "source": [
    "(c) Using `plot_circuit_layout`, check the topology (i.e. the connectivity) of both backends. For each backend, design a new quantum circuit that implements the GHZ state using exactly $N-1$ CNOT gates (4 and 6 respectively). Repeat exercise (b), plotting the counts of the original circuit and your new circuit in a single histogram, for both backends."
   ]
  }
 ],
 "metadata": {
  "colab": {
   "authorship_tag": "ABX9TyPLoxEC9AzLEOUtuUGdnZn6",
   "provenance": []
  },
  "kernelspec": {
   "display_name": "qiskit-course",
   "language": "python",
   "name": "python3"
  },
  "language_info": {
   "codemirror_mode": {
    "name": "ipython",
    "version": 3
   },
   "file_extension": ".py",
   "mimetype": "text/x-python",
   "name": "python",
   "nbconvert_exporter": "python",
   "pygments_lexer": "ipython3",
   "version": "3.12.8"
  }
 },
 "nbformat": 4,
 "nbformat_minor": 0
}
