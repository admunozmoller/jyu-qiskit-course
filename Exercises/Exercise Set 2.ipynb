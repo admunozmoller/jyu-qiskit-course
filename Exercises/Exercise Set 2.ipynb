{
 "cells": [
  {
   "cell_type": "markdown",
   "metadata": {},
   "source": [
    "# Qiskit Exercise List 2"
   ]
  },
  {
   "cell_type": "code",
   "execution_count": null,
   "metadata": {},
   "outputs": [],
   "source": [
    "from qiskit.circuit import QuantumCircuit\n",
    "from qiskit.circuit.library import MCMT, ZGate, UnitaryGate\n",
    "import numpy as np"
   ]
  },
  {
   "cell_type": "markdown",
   "metadata": {
    "id": "LfsbEaJ_ADqN"
   },
   "source": [
    "## Exercise 1"
   ]
  },
  {
   "cell_type": "markdown",
   "metadata": {},
   "source": [
    "Consider an unstructured list of $2^6 = 64$ elements, that has $3$ marked elements that we wish to identify, encoded in the oracle circuit defined below. The goal is to find the marked states using Grover's algorithm."
   ]
  },
  {
   "cell_type": "code",
   "execution_count": null,
   "metadata": {},
   "outputs": [],
   "source": [
    "oracle = QuantumCircuit(6)\n",
    "oracle.x(1)\n",
    "oracle.x(2)\n",
    "oracle.x(5)\n",
    "oracle.compose(MCMT(ZGate(), 5, 1), inplace=True)\n",
    "oracle.x(0)\n",
    "oracle.x(1)\n",
    "oracle.x(4)\n",
    "oracle.x(5)\n",
    "oracle.compose(MCMT(ZGate(), 5, 1), inplace=True)\n",
    "oracle.x(0)\n",
    "oracle.x(3)\n",
    "oracle.x(4)\n",
    "oracle.compose(MCMT(ZGate(), 5, 1), inplace=True)\n",
    "oracle.x(2)\n",
    "oracle.x(3)\n",
    "oracle.draw('mpl')"
   ]
  },
  {
   "cell_type": "markdown",
   "metadata": {},
   "source": [
    "(a) How many Grover's operations are needed to find the marked element?"
   ]
  },
  {
   "cell_type": "code",
   "execution_count": null,
   "metadata": {},
   "outputs": [],
   "source": [
    "# Fill the following variables with the appropriate values\n",
    "\n",
    "# Number of qubits\n",
    "n = \n",
    "\n",
    "# Number of elements in the list\n",
    "M = \n",
    "\n",
    "# Number of marked elements\n",
    "N = \n",
    "\n",
    "# Number of Grover's iterations\n",
    "t = "
   ]
  },
  {
   "cell_type": "markdown",
   "metadata": {},
   "source": [
    "(b) Define a function that implements the Diffuser Operator."
   ]
  },
  {
   "cell_type": "markdown",
   "metadata": {},
   "source": [
    "(c) Implement Grover's algorithm using the oracle circuit and the Diffuser Operator. Obtain the marked states by measuring the circuit with the `AerSimulator()` backend using $100$ shots."
   ]
  },
  {
   "cell_type": "code",
   "execution_count": null,
   "metadata": {},
   "outputs": [],
   "source": [
    "## Write your code here"
   ]
  },
  {
   "cell_type": "markdown",
   "metadata": {},
   "source": [
    "The marked states correspond to:\n",
    "\n",
    "- \n",
    "- \n",
    "- "
   ]
  },
  {
   "cell_type": "markdown",
   "metadata": {},
   "source": [
    "## Exercise 2"
   ]
  },
  {
   "cell_type": "markdown",
   "metadata": {},
   "source": [
    "The goal of this exercise is to obtain the multiplicative order of $4$ modulo $27$ using Quantum Phase Estimation. For this, consider the following unitary gate, which implements the following transformation:\n",
    "\n",
    "$$U|y\\rangle \\equiv |by \\bmod N \\rangle,$$\n",
    "\n",
    "given by the code below."
   ]
  },
  {
   "cell_type": "code",
   "execution_count": null,
   "metadata": {},
   "outputs": [],
   "source": [
    "def mod_mult_gate(b,N):\n",
    "    if np.gcd(b,N)>1:\n",
    "        print(f\"Error: gcd({b},{N}) > 1\")\n",
    "    else:\n",
    "        n = int(np.floor(np.log2(N-1)) + 1)\n",
    "        U = np.full((2**n,2**n),0)\n",
    "        for x in range(N): U[b*x % N][x] = 1\n",
    "        for x in range(N,2**n): U[x][x] = 1\n",
    "        G = UnitaryGate(U)\n",
    "        G.name = f\"M_{b}\"\n",
    "        return G"
   ]
  },
  {
   "cell_type": "markdown",
   "metadata": {},
   "source": [
    "(a) Check the lecture notes, and find the number of qubits needed for preparing the initial state $|0\\rangle$ and the number of qubits needed for the ancillary register."
   ]
  },
  {
   "cell_type": "code",
   "execution_count": null,
   "metadata": {},
   "outputs": [],
   "source": [
    "a = 4\n",
    "N = 27\n",
    "\n",
    "# Initial state size\n",
    "m = \n",
    "\n",
    "# Ancillary register size\n",
    "n = \n",
    "\n",
    "print(m)\n",
    "print(n)"
   ]
  },
  {
   "cell_type": "markdown",
   "metadata": {},
   "source": [
    "(b) Construct the quantum circuit that solves the order-finding problem using QPE. \n",
    "\n",
    "Hint 1: Notice that the gate defined in `mod_mult_gate` does not include controls!\n",
    "\n",
    "Hint 2: In the lecture notes, we implemented the cascade of controlled unitaries through the following loop: `for _ in range(2**index)`. For a higher number of qubits (as this case is), the implementation through this method becomes inefficient. To amend that, implement the controlled unitaries using the [`pow`](https://docs.python.org/3/library/functions.html#pow) function (to be used as first argument for the `mod_mult_gate` function).\n",
    "\n",
    "$$U|1\\rangle = |a \\cdot 1 \\bmod N \\rangle,$$\n",
    "\n",
    "$$U^{2}|1\\rangle = U|a \\bmod N \\rangle = |a^2 \\bmod N \\rangle,$$\n",
    "\n",
    "$$U^{2^j}|1\\rangle = U^{2^j - 1}|a \\bmod N \\rangle = |a^{2^j} \\bmod N \\rangle = | \\text{pow}(a, 2^j, 27) \\rangle$$"
   ]
  },
  {
   "cell_type": "code",
   "execution_count": null,
   "metadata": {},
   "outputs": [],
   "source": [
    "# Usage example:\n",
    "\n",
    "for j in range(n):\n",
    "    y = 2**j\n",
    "    print(f\"a^{y} modulo {N} = {pow(a, y, N)}\")"
   ]
  },
  {
   "cell_type": "code",
   "execution_count": null,
   "metadata": {},
   "outputs": [],
   "source": [
    "## Write your code here"
   ]
  },
  {
   "cell_type": "markdown",
   "metadata": {},
   "source": [
    "(c) Execute the circuit with the `AerSimulator()` backend using $100$ shots. Use the functions defined on the lectures notes (modify them when needed!) to get different guesses for the multiplicative order. Explain which guess is the correct one, and justify why some may be incorrect ones."
   ]
  },
  {
   "cell_type": "code",
   "execution_count": null,
   "metadata": {},
   "outputs": [],
   "source": [
    "## Write your code here"
   ]
  },
  {
   "cell_type": "markdown",
   "metadata": {},
   "source": [
    "- The obtained guess $r_1 = $ is correct/incorrect, because ...\n",
    "- The obtained guess $r_2 = $ is correct/incorrect, because ...\n",
    "- $\\vdots$"
   ]
  }
 ],
 "metadata": {
  "colab": {
   "authorship_tag": "ABX9TyPLoxEC9AzLEOUtuUGdnZn6",
   "provenance": []
  },
  "kernelspec": {
   "display_name": "qiskit-course",
   "language": "python",
   "name": "python3"
  },
  "language_info": {
   "codemirror_mode": {
    "name": "ipython",
    "version": 3
   },
   "file_extension": ".py",
   "mimetype": "text/x-python",
   "name": "python",
   "nbconvert_exporter": "python",
   "pygments_lexer": "ipython3",
   "version": "3.12.8"
  }
 },
 "nbformat": 4,
 "nbformat_minor": 0
}
