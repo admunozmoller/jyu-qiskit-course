{
 "cells": [
  {
   "cell_type": "markdown",
   "metadata": {},
   "source": [
    "# Qiskit Notebook 6 - Qiskit Primitives\n",
    "\n",
    "\n",
    "In this Notebook, we will learn about:\n",
    "\n",
    "- Parametric Circuits\n",
    "- Observables and Expectation Values\n",
    "- Estimator and Sampler Primitives"
   ]
  },
  {
   "cell_type": "code",
   "execution_count": null,
   "metadata": {},
   "outputs": [],
   "source": [
    "# If using Google Colab, uncomment the following\n",
    "\n",
    "#!pip install -q qiskit\n",
    "#!pip install -q qiskit[visualization]\n",
    "#!pip install -q qiskit-ibm-runtime\n",
    "#!pip install -q qiskit-aer"
   ]
  },
  {
   "cell_type": "markdown",
   "metadata": {},
   "source": [
    "# Qiskit Primitives"
   ]
  },
  {
   "cell_type": "markdown",
   "metadata": {},
   "source": [
    "A **primitive** is the smallest processing instruction (i.e. simplest building block) from which one can obtain a useful result for a given abstraction level. Abstractions allow you to focus on a particular level of detail relevant for a given task: the closer to the hardware, the lower the level of abstraction. Similarly, the more complex the task, the higher the abstraction.\n",
    "\n",
    "\n",
    "Qiskit has two primitives:\n",
    "- The `Sampler` primitive, which corresponds to a **low-level** execution of circuits, samples the output register from quantum circuit execution. In other words, it performs measurements and computes probabilities according to the number of experiments (shots).\n",
    "\n",
    "- The `Estimator` primitive, which corresponds to a **high-level** execution for algorithms, computes expectation values of observables with respect to states prepared by quantum circuits.\n"
   ]
  },
  {
   "cell_type": "markdown",
   "metadata": {},
   "source": [
    "Before studying in detail the inputs/outputs of the `Sampler` and `Estimator`, lets consider a simple example using the reference (noiseless) primitives in `qiskit.primitives`. For this, we will discuss first **parametric circuits** and **expectation values of observables**."
   ]
  },
  {
   "cell_type": "markdown",
   "metadata": {},
   "source": [
    "## Parametric Circuits"
   ]
  },
  {
   "cell_type": "markdown",
   "metadata": {},
   "source": [
    "First, we will introduce **parametric quantum circuits**, that is, quantum circuits that depend on a parameter, which is to be defined later during the execution. To do this, we first construct the circuit, using the `Parameter` class:"
   ]
  },
  {
   "cell_type": "code",
   "execution_count": null,
   "metadata": {},
   "outputs": [],
   "source": [
    "from qiskit import QuantumCircuit\n",
    "from qiskit.circuit import Parameter\n",
    "import numpy as np\n",
    "\n",
    "phi = Parameter('φ')                      # We can use Unicode strings!\n",
    "\n",
    "qc_param = QuantumCircuit(2)\n",
    "qc_param.ry(phi, 0)                       # Instead of specifying the value of theta, Parameter acts as a \"placeholder\"\n",
    "qc_param.cx(0,1)\n",
    "qc_param.measure_all()\n",
    "\n",
    "print(qc_param.parameters)                # Get parameters\n",
    "qc_param.draw(\"mpl\")"
   ]
  },
  {
   "cell_type": "markdown",
   "metadata": {},
   "source": [
    "The value of a `Parameter` must be entirely determined before a circuit begins execution. Typically this will mean that you should supply values for every `Parameter` in a circuit using the method `QuantumCircuit.assign_parameters()`"
   ]
  },
  {
   "cell_type": "code",
   "execution_count": null,
   "metadata": {},
   "outputs": [],
   "source": [
    "bc = qc_param.assign_parameters({phi: np.pi/2})\n",
    "bc.draw('mpl')"
   ]
  },
  {
   "cell_type": "markdown",
   "metadata": {},
   "source": [
    "The `StatevectorSampler` class takes circuits and parameters as inputs and returns the results from sampling from the output probability distributions. The Sampler is executed similarly to the simulations that we did through a backend, that is, using `sampler.run()` instead of `backend.run()`."
   ]
  },
  {
   "cell_type": "code",
   "execution_count": null,
   "metadata": {},
   "outputs": [],
   "source": [
    "from qiskit.primitives import StatevectorSampler\n",
    "\n",
    "sampler = StatevectorSampler()                                     # create sampler class\n",
    "\n",
    "job_sampler1 = sampler.run([(qc_param, np.pi/2)], shots = 100)     # run the circuit with the parameter value using the sampler\n",
    "data_sampler = job_sampler1.result()[0].data                       # get data from the result\n",
    "counts1 = data_sampler.meas.get_counts()                           # get the counts\n",
    "counts1"
   ]
  },
  {
   "cell_type": "markdown",
   "metadata": {},
   "source": [
    "## Observables and Expectation Values"
   ]
  },
  {
   "cell_type": "markdown",
   "metadata": {},
   "source": [
    "In quantum mechanics, **observables** correspond to physical properties that can be measured. For our purposes, an observable is a Hermitian operator (matrix), that is, an operator that satisfies $$O^{\\dagger} = O.$$ A common example, which will be explored in more detail later on, is the **Hamiltonian**, which represents the total energy of the quantum system. To measure an $n$-qubit observable $O$ on a quantum computer, we must represent it as a sum of tensor products of **Pauli operators**, that is,\n",
    "\n",
    "$$\n",
    "O=\\sum_{k=1}^{K} \\alpha_{k} P_{k}, \\, \\, \\, P_{k} \\in\\{I, X, Y, Z \\}^{\\otimes n}, \\, \\, \\, \\alpha_{k} \\in\\mathbb{R}, \n",
    "$$\n",
    "where\n",
    "$$\n",
    "I=\\left( \\begin{matrix} {{1}} & {{0}} \\\\ {{0}} & {{1}} \\\\ \\end{matrix} \\right), \\; \\; X=\\left( \\begin{matrix} {{0}} & {{1}} \\\\ {{1}} & {{0}} \\\\ \\end{matrix} \\right), \\; \\; Y=\\left( \\begin{matrix} {{0}} & {{-i}} \\\\ {{i}} & {{0}} \\\\ \\end{matrix} \\right), \\; \\; Z=\\left( \\begin{matrix} {{1}} & {{0}} \\\\ {{0}} & {{-1}} \\\\ \\end{matrix} \\right). \n",
    "$$"
   ]
  },
  {
   "cell_type": "markdown",
   "metadata": {},
   "source": [
    "To express an observable, we use the `SparsePauliOp` class, and as an example, let us consider the following two-qubits observable:\n",
    "\n",
    "$$\n",
    "O = I \\otimes I + \\frac{1}{2} X \\otimes X - Y \\otimes Y - \\frac{1}{4} Z \\otimes Z\n",
    "$$\n",
    "\n",
    "The first argument corresponds to a list of strings of Pauli terms, and the second argument the corresponding coefficients $\\alpha_{k}$."
   ]
  },
  {
   "cell_type": "code",
   "execution_count": null,
   "metadata": {},
   "outputs": [],
   "source": [
    "from qiskit.quantum_info import SparsePauliOp\n",
    "\n",
    "obs_ex1 = SparsePauliOp([\"II\", \"XX\", \"YY\", \"ZZ\"], coeffs=[1, 0.5, -1, -0.25])\n",
    "print(obs_ex1)\n",
    "print(obs_ex1.to_matrix())      # Convert the observable to a matrix"
   ]
  },
  {
   "cell_type": "markdown",
   "metadata": {},
   "source": [
    "As the Pauli operators form a **basis** of the $2^n \\times 2^n$ Hermitian matrices, we can represent any operator in terms of Pauli operators with the following expansion:\n",
    "\n",
    "\n",
    "$$\n",
    "O=\\sum_{P \\in\\{I, X, Y, Z \\}^{\\otimes n}} \\mathrm{T r} ( O P ) P, \n",
    "$$\n",
    "\n",
    "where the sum runs over all possible $n$-qubit Pauli terms and $\\mathrm{T r}$ is the trace of a matrix (sum of diagonal elements). This can also be implemented directly using the `SparsePauliOp.from_operator` method."
   ]
  },
  {
   "cell_type": "code",
   "execution_count": null,
   "metadata": {},
   "outputs": [],
   "source": [
    "from scipy.linalg import ishermitian\n",
    "\n",
    "matrix = np.array(\n",
    "    [[-1, 0, 0.5, -1],\n",
    "    [0, 1, 1, 0.5],\n",
    "    [0.5, 1, -1, 0],\n",
    "    [-1, 0.5, 0, 1]]\n",
    ")\n",
    "print(ishermitian(matrix))  # Check first if the matrix is Hermitian\n",
    "\n",
    "obs_ex2 = SparsePauliOp.from_operator(matrix)\n",
    "print(obs_ex2)"
   ]
  },
  {
   "cell_type": "markdown",
   "metadata": {},
   "source": [
    "Let $A$ be an observable and $|\\psi \\rangle$ a quantum state. The **expectation value** of $A$ in the state $|\\psi \\rangle$ is denoted as $\\langle\\psi | A |\\psi \\rangle,$ and can be understood as the probabilistic expected value of the measurement of an experiment. How do we compute an expectation values in practice?\n",
    "\n",
    "At the start of the course, we said that to extract the results out of a quantum circuit, we perform a measurement in the Pauli-$Z$ basis (also known as the computational basis), that is, we measures the states $|0\\rangle$ or $|1\\rangle$. Therefore, a measurement yields $0$ or $1$, depending on the overlap with the states $|0\\rangle$ or $|1\\rangle$.\n",
    "\n",
    "$$\n",
    "| \\psi \\rangle\\xrightarrow{m e a s u r e} \\begin{cases} {{0, \\mathrm{w i t h ~ p r o b a b i l i t y} \\, p_{0}=| \\langle \\psi | 0 \\rangle|^{2},}} \\\\ {{1, \\mathrm{w i t h ~ p r o b a b i l i t y} \\, p_{1}=| \\langle \\psi | 1 \\rangle|^{2}.}} \\\\ \\end{cases}\n",
    "$$"
   ]
  },
  {
   "cell_type": "markdown",
   "metadata": {},
   "source": [
    "The Pauli $Z$ operator can be rewritten in terms of its eigenvectors (which correspond to the computational basis elements) as follows:\n",
    "\n",
    "$$ Z = \\left( \\begin{matrix} {{1}} & {{0}} \\\\ {{0}} & {{-1}} \\\\ \\end{matrix} \\right) = 1 \\cdot \\left( \\begin{matrix} {{1}} & {{0}} \\\\ {{0}} & {{0}} \\\\ \\end{matrix} \\right) + (-1) \\cdot \\left( \\begin{matrix} {{0}} & {{0}} \\\\ {{0}} & {{1}} \\\\ \\end{matrix} \\right) = 1 \\cdot |0\\rangle \\langle 0 | + (-1) \\cdot |1\\rangle \\langle 1|.  $$\n",
    "\n",
    "Then, we can express the expectation value of $Z$ as\n",
    "\n",
    "$$ \\langle\\psi | Z |\\psi \\rangle = 1 \\cdot \\langle\\psi|0\\rangle \\langle 0 |\\psi \\rangle + (-1) \\cdot \\langle\\psi|1\\rangle \\langle 1|\\psi \\rangle = 1 \\cdot |\\langle\\psi |0\\rangle|^2 + (-1) \\cdot |\\langle\\psi |1\\rangle|^2 = 1 \\cdot p_0 + (-1) \\cdot p_1.$$\n",
    "\n",
    "Remember that we can only obtain approximation of these probabilities! If we have $N$ shots (that is, if we repeat the experiment $N$ times), we can obtain an approximation of $\\langle\\psi | Z |\\psi \\rangle$ given by:\n",
    "\n",
    "$$ \\langle\\psi | Z |\\psi \\rangle = p_0 - p_1 \\approx \\frac{n_0}{N} - \\frac{n_1}{N},$$\n",
    "where $n_0$ and $n_1$ correspond to the number of times that we measure the state $0$ and $1$, respectively."
   ]
  },
  {
   "cell_type": "markdown",
   "metadata": {},
   "source": [
    "We can only measure observables that are diagonal in the computational basis, that is, observables consisting only of $I$ and $Z$ terms. For example, say we want to compute the following expectation value,\n",
    "\n",
    "$$ \\langle + | Z | + \\rangle =  1 \\cdot |\\langle + |0\\rangle|^2 + (-1) \\cdot |\\langle + |1\\rangle|^2 \\approx \\frac{n_0}{N} - \\frac{n_1}{N} $$\n",
    "\n",
    "we use the following circuit. What is the exact expectation value?"
   ]
  },
  {
   "cell_type": "code",
   "execution_count": null,
   "metadata": {},
   "outputs": [],
   "source": [
    "circuit_exp = QuantumCircuit(1,1)\n",
    "# prepare state |+>\n",
    "\n",
    "circuit_exp.h(0)\n",
    "\n",
    "circuit_exp.barrier()\n",
    "\n",
    "# measure in the Z basis (by default)\n",
    "\n",
    "circuit_exp.measure(0,0)\n",
    "circuit_exp.draw(\"mpl\")"
   ]
  },
  {
   "cell_type": "code",
   "execution_count": null,
   "metadata": {},
   "outputs": [],
   "source": [
    "shots = 1000000                                                        # The more shots, the more accurate the approximation\n",
    "\n",
    "job_sampler2 = sampler.run([(circuit_exp)], shots = shots)           # we can also use the sampler to run a circuit without parameters                   \n",
    "data_sampler2 = job_sampler2.result()[0].data                        # get data\n",
    "counts2 = data_sampler2.c.get_counts()                               # get the counts (notice that the classical register is named \"c\" instead of \"meas\" this time)\n",
    "print(counts2)\n",
    "counts_zero = counts2.get('0', 0)                                    # get the counts for the 0 state   \n",
    "counts_one= counts2.get('1', 0)                                      # get the counts for the 1 state    \n",
    "\n",
    "print(f'Exact Expectation Value: {0}')\n",
    "print(f'Approximate Expectation Value: {(counts_zero-counts_one)/shots}')"
   ]
  },
  {
   "cell_type": "markdown",
   "metadata": {},
   "source": [
    "Measuring arbitrary Pauli terms therefore requires a change of basis to diagonalize them. To do this, we perform the following transformations,\n",
    "\n",
    "$$\n",
    "\\begin{array} {l} {{{{X \\to Z=H X H}}}} \\\\ {{{{Y \\to Z=H S^{\\dagger} Y S H}}}} \\\\ \\end{array} \n",
    "$$\n",
    "\n",
    "where $S=\\sqrt{Z}$ corresponds to the phase gate. We can check for the Pauli $X$ operator that the previous transformation holds: \n",
    "\n",
    "\n",
    "$$ X = \\left( \\begin{matrix} {{0}} & {{1}} \\\\ {{1}} & {{0}} \\\\ \\end{matrix} \\right) = 1 \\cdot \\left[\\frac{1}{2} \\left( \\begin{matrix} {{1}} & {{1}} \\\\ {{1}} & {{1}} \\\\ \\end{matrix} \\right)\\right] + (-1) \\cdot \\left[\\frac{1}{2} \\left( \\begin{matrix} {{1}} & {{-1}} \\\\ {{-1}} & {{1}} \\\\ \\end{matrix} \\right)\\right] = 1 \\cdot |+\\rangle \\langle + | + (-1) \\cdot |-\\rangle \\langle -|.  $$\n",
    "\n",
    "$$ X \\to H X H = 1 \\cdot H|+\\rangle \\langle + |H + (-1) \\cdot H|-\\rangle \\langle -|H = 1 \\cdot |0\\rangle \\langle 0 | + (-1) \\cdot |1\\rangle \\langle 1| = Z $$\n",
    "\n",
    "\n",
    "From the above, if we want to measure the following expectation value $ \\langle 0 | X | 0 \\rangle$ using a quantum computer, we first rewrite it in terms of $Z$:\n",
    "\n",
    "\n",
    "$$ \\langle 0 | X | 0 \\rangle = \\langle 0 | H H X H H | 0 \\rangle  = \\langle + | H X H | + \\rangle = \\langle + | Z | + \\rangle, $$\n",
    "\n",
    "where we used the fact that $HH = I$ and $H | 0 \\rangle = | + \\rangle$. We notice that it is equivalent to the circuit that we used before, where we first prepare the state $| 0 \\rangle$, and change the basis by adding a Hadamard gate."
   ]
  },
  {
   "cell_type": "code",
   "execution_count": null,
   "metadata": {},
   "outputs": [],
   "source": [
    "circuit_exp = QuantumCircuit(1,1)\n",
    "# prepare state |0> (by default)\n",
    "\n",
    "circuit_exp.barrier()\n",
    "\n",
    "# measure in the X basis, by adding a Hadamard gate before the measurement\n",
    "\n",
    "circuit_exp.h(0)\n",
    "\n",
    "circuit_exp.measure(0,0)\n",
    "circuit_exp.draw(\"mpl\")"
   ]
  },
  {
   "cell_type": "markdown",
   "metadata": {},
   "source": [
    "If we are interested in computing the following, more general, expectation value,\n",
    "\n",
    "$$ \\langle \\psi(\\theta) | ZYX | \\psi(\\theta) \\rangle, \\quad | \\psi(\\theta) \\rangle =  (I \\otimes I \\otimes RX(\\theta)) \\left[ \\frac{1}{\\sqrt{2}} \\left(| 000 \\rangle + | 111 \\rangle  \\right)\\right] $$\n",
    "\n",
    "we would have to add the corresponding change of basis to the circuit."
   ]
  },
  {
   "cell_type": "code",
   "execution_count": null,
   "metadata": {},
   "outputs": [],
   "source": [
    "theta = Parameter('θ')     \n",
    "\n",
    "# create GHZ state\n",
    "ghz_rx = QuantumCircuit(3)\n",
    "ghz_rx.h(0)\n",
    "ghz_rx.cx(0, 1)\n",
    "ghz_rx.cx(1, 2)\n",
    "\n",
    "# Apply RX rotation to the first qubit\n",
    "ghz_rx.rx(theta, 0)\n",
    "\n",
    "\n",
    "ghz_rx_exp = ghz_rx.copy()  # copy the circuit for later use\n",
    "ghz_rx.barrier()\n",
    "\n",
    "# measure in the X basis, adding the Hadamard gate\n",
    "ghz_rx.h(0)\n",
    " \n",
    "# measure in the Y, adding a Hadamard and S^\\dagger gates\n",
    "ghz_rx.sdg(1)\n",
    "ghz_rx.h(1)\n",
    " \n",
    "# the Z basis is the default, no action required here\n",
    " \n",
    "ghz_rx.barrier() \n",
    "ghz_rx.draw(\"mpl\")"
   ]
  },
  {
   "cell_type": "markdown",
   "metadata": {},
   "source": [
    "The reference implementation of `EstimatorV2` in `qiskit.primitives` that runs on a local statevector simulators is the `StatevectorEstimator` class. It takes circuits, observables, and parameters as inputs and returns the locally computed expectation values."
   ]
  },
  {
   "cell_type": "code",
   "execution_count": null,
   "metadata": {},
   "outputs": [],
   "source": [
    "obs_ex3 = SparsePauliOp([\"XYZ\"], coeffs=[1])                # observable(s) whose expected values you want to compute\n",
    " \n",
    "parameter_values = [[0], [np.pi/4], [np.pi/2]]              # value(s) for the circuit parameter(s)"
   ]
  },
  {
   "cell_type": "markdown",
   "metadata": {},
   "source": [
    "Notice that we run the `Estimator` with a single circuit and a single observable, but with three parameter values. Therefore, we will get three expectation values, one for each parameter."
   ]
  },
  {
   "cell_type": "code",
   "execution_count": null,
   "metadata": {},
   "outputs": [],
   "source": [
    "ghz_rx_exp.draw(\"mpl\")"
   ]
  },
  {
   "cell_type": "code",
   "execution_count": null,
   "metadata": {},
   "outputs": [],
   "source": [
    "from qiskit.primitives import StatevectorEstimator\n",
    "estimator = StatevectorEstimator()\n",
    "\n",
    "job_estimator = estimator.run([(ghz_rx_exp, obs_ex3, parameter_values)])\n",
    "result_estimator = job_estimator.result()[0]\n",
    "data_estimator = result_estimator.data       \n",
    "\n",
    "print(f\"Expectation value: {data_estimator.evs}\")"
   ]
  },
  {
   "cell_type": "markdown",
   "metadata": {},
   "source": [
    "## Primitive Unified Bloc (PUB)"
   ]
  },
  {
   "cell_type": "markdown",
   "metadata": {},
   "source": [
    "The **Primitive Unified Bloc** (pub) programs are designed to handle parametric quantum circuits, and correspond to the **inputs** for the `Sampler` and `Estimator` primitives.\n",
    "\n",
    "For the `Sampler` primitive, the format of the pub contains three values:\n",
    "\n",
    "* A parametric `QuantumCircuit`, which may contain one or more `Parameter` objects. These circuits should also **include measurement instructions** and **classical registers** for each of the qubits to be sampled.\n",
    "* A collection of parameter values to bind the circuit against, if the `Parameter` objects must be bound at runtime.\n",
    "* (Optionally) a number of shots to measure the circuit with.\n",
    "\n",
    "For the `Estimator` primitive, the format of the pub contains four values:\n",
    "\n",
    "* A parametric `QuantumCircuit`, which contain one or more `Parameter` objects.\n",
    "* A list of one or more observables (`ObservablesArrayLike`), which specify the expectation values to estimate, arranged into an array (for example, a single observable represented as a 0-d array, a list of observables as a 1-d array). Examples of `ObservablesArrayLike` include `Pauli`, `SparsePauliOp`, `PauliList`, or a string.\n",
    "* A collection of parameter values to bind the circuit against. This can be specified as a single array-like object where the last index is over circuit `Parameter` objects.\n",
    "* (Optionally) a target precision for expectation values to estimate.\n",
    "\n",
    "**Observation 1**: We can also consider non-parametric `QuantumCircuit`s, in which case the parameter values are set to `None`.\n",
    "\n",
    "**Observation 2**: We can provide a `list` of pubs to the primitives, executing them in batches.\n",
    "\n",
    "**Observation 3**: The pubs aggregate elements from multiple arrays (observables and parameter values) by following the same [broadcasting rules](https://docs.quantum.ibm.com/guides/primitive-input-output#broadcasting-rules) as NumPy (expansion of arrays with different shapes during arithmetic operations so they behave as if they had the same shape)."
   ]
  },
  {
   "cell_type": "markdown",
   "metadata": {},
   "source": [
    "## Sampler Outputs"
   ]
  },
  {
   "cell_type": "markdown",
   "metadata": {},
   "source": [
    "Upon running a Sampler Job, we will get a `PrimitiveResult` object which contains a list of `PubResult`'s corresponding to each of the input pubs. To extract information out of our `PubResult`, we can use the following methods:\n",
    "\n",
    "* `PubResult.data`: Contains the **measurement outcome data** for all classical registers in the input pubs circuit.\n",
    "* `PubResult.metadata`: Contains any additional metadata that a primitive might record.\n",
    "\n",
    "The `PubResult.data` method will return container called a `DataBin`, which stores the outcomes of measurements in the `ClassicalRegister` in the pub circuit. Each register's data is stored in a `BitArray` container."
   ]
  },
  {
   "cell_type": "code",
   "execution_count": null,
   "metadata": {},
   "outputs": [],
   "source": [
    "qc_param.draw(\"mpl\")"
   ]
  },
  {
   "cell_type": "code",
   "execution_count": null,
   "metadata": {},
   "outputs": [],
   "source": [
    "sampler = StatevectorSampler()\n",
    "\n",
    "params = np.array([0, np.pi/2])                   # Define (two) parameters for the circuit\n",
    "pubs = (qc_param, params)                         # Define (one) pub for Sampler\n",
    "\n",
    "job_sampler_s = sampler.run([pubs], shots = 20)   # We have two parameters: we get one PubResult with a BitArray of size 2\n",
    "print(type(job_sampler_s))\n",
    "\n",
    "print('----------------------------------------') \n",
    "\n",
    "primitive_result_s = job_sampler_s.result()\n",
    "print(primitive_result_s)\n",
    "\n",
    "print('----------------------------------------')\n",
    "\n",
    "pub_result_s = primitive_result_s[0]           # Get the first (only) PubResult from the PrimitiveResult\n",
    "print(pub_result_s)\n",
    "\n",
    "print('----------------------------------------')\n",
    "\n",
    "data_pub_s = pub_result_s.data                # Get DataBin\n",
    "print(data_pub_s)\n",
    "\n",
    "print('----------------------------------------')\n",
    "\n",
    "\n",
    "metadata_pub_s = pub_result_s.metadata        # Get Metadata\n",
    "print(metadata_pub_s)\n",
    "\n",
    "print('----------------------------------------')\n",
    "\n",
    "\n",
    "bits = data_pub_s.meas                        # Get the bits from the DataBin (notice that the classical register is named \"meas\") \n",
    "print(bits)"
   ]
  },
  {
   "cell_type": "markdown",
   "metadata": {},
   "source": [
    "The `BitArray` class stores the single-shot outcomes of all classical registers. In general, we are mostly interested in the total counts to get the probability distributions, which is accessed through the `bits.get_counts()` method, similar to before. Nonetheless, we can also access the value of each shot through the `bits.array` attribute."
   ]
  },
  {
   "cell_type": "code",
   "execution_count": null,
   "metadata": {},
   "outputs": [],
   "source": [
    "bits[0].get_counts()        # get the counts for the first parameter"
   ]
  },
  {
   "cell_type": "code",
   "execution_count": null,
   "metadata": {},
   "outputs": [],
   "source": [
    "bits[1].get_counts()        # get the counts for the second parameter"
   ]
  },
  {
   "cell_type": "code",
   "execution_count": null,
   "metadata": {},
   "outputs": [],
   "source": [
    "bits[1].array               # get the value of each shot from the second parameter"
   ]
  },
  {
   "cell_type": "markdown",
   "metadata": {},
   "source": [
    "The number of shots can be specified inside of each pub, or as a default argument for the run method. The pub parameters take priority over the second one."
   ]
  },
  {
   "cell_type": "code",
   "execution_count": null,
   "metadata": {},
   "outputs": [],
   "source": [
    "pub1 = (qc_param, 0, 100)   # 100 shots\n",
    "pub2 = (qc_param, np.pi/2)\n",
    "\n",
    "result1 = sampler.run([pub1, pub2], shots = 500).result()\n",
    "\n",
    "for i, res in enumerate(result1):\n",
    "    print(f'Pub {i}: num_shots = {res.data.meas.num_shots}')"
   ]
  },
  {
   "cell_type": "markdown",
   "metadata": {},
   "source": [
    "## Estimator Outputs"
   ]
  },
  {
   "cell_type": "code",
   "execution_count": null,
   "metadata": {},
   "outputs": [],
   "source": [
    "ghz_rx_exp.draw(\"mpl\")"
   ]
  },
  {
   "cell_type": "markdown",
   "metadata": {},
   "source": [
    "Similar to the Sampler, an Estimator Job will contain a `PrimitiveResult` with a list of `PubResults` for each input pub. Instead of measure outcomes, its `DataBin` contains the following fields:\n",
    "\n",
    "* `evs`: The mean expectation value estimates for all input pub parameter values and observables.\n",
    "* `stds`: The standard deviations of the mean of expectation value estimates. (for the `StatevectorEstimator()` it is always zero).\n",
    "\n",
    "In the Sampler case, we were able to modify the amount of shots. Here, we can modify the **precision argument**, which expresses the error bars that the primitive implementation should target for expectation values estimates. This is the sampling overhead (also known as shot noise) and is defined exclusively in the `estimator.run()` method."
   ]
  },
  {
   "cell_type": "code",
   "execution_count": null,
   "metadata": {},
   "outputs": [],
   "source": [
    "estimator = StatevectorEstimator()\n",
    "\n",
    "obs_ex4 = [SparsePauliOp([\"XYZ\"], coeffs=[0.5])]\n",
    "obs_ex5 = [SparsePauliOp([\"III\", \"XXX\", \"YYY\", \"ZZZ\"], coeffs=[1, 0.5, -1, -0.25])]\n",
    "\n",
    "parameter_values4 = [[0], [np.pi/3], [np.pi/5]]\n",
    "parameter_values5 = [[0], [np.pi/4], [np.pi/6]]\n",
    "\n",
    "job_e = estimator.run([(ghz_rx_exp, [obs_ex4, obs_ex5], [parameter_values4, parameter_values5])], precision=0.0)        # Two observables, with two parameter values each\n",
    "print(type(job_e))\n",
    "\n",
    "print('----------------------------------------')\n",
    "\n",
    "primitive_result_e = job_e.result()\n",
    "print(primitive_result_e)                              \n",
    "\n",
    "print('----------------------------------------') \n",
    "\n",
    "\n",
    "pub_result_e = primitive_result_e[0]                     # Get the first (only) PubResult from the PrimitiveResult\n",
    "print(pub_result_e)\n",
    "print(pub_result_e.metadata)                             # Metadata for the PubResult\n",
    "print('----------------------------------------') \n",
    "\n",
    "data_pub_e = pub_result_e.data\n",
    "print(data_pub_e)                                        # Our DataBin has shape (2,3) as we have 2 observables and 3 parameter values\n",
    "\n",
    "print('----------------------------------------') \n",
    "\n",
    "print(data_pub_e.evs)   # The expectation values for each parameter value\n",
    "print(data_pub_e.stds)  # The standard deviations for each parameter value"
   ]
  },
  {
   "cell_type": "markdown",
   "metadata": {},
   "source": [
    "## Qiksit Aer Primitives"
   ]
  },
  {
   "cell_type": "markdown",
   "metadata": {},
   "source": [
    "The previous examples used the reference primitives in the Qiskit SDK `StatevectorSampler` and `StatevectorEstimator`, which are implemented with full state vector simulation, that is, in a noiseless scenario. If we want to simulate larger circuits, include noise models or use FakeBackends, then we have to use the primitives as defined in Qiskit Aer."
   ]
  },
  {
   "cell_type": "code",
   "execution_count": null,
   "metadata": {},
   "outputs": [],
   "source": [
    "from qiskit.circuit.library import EfficientSU2     # qiskit.library has many predefined circuits, we will study some later on\n",
    "\n",
    "n_qubits = 5\n",
    "qc_su2 = EfficientSU2(n_qubits)\n",
    "qc_su2.decompose().draw(\"mpl\")"
   ]
  },
  {
   "cell_type": "markdown",
   "metadata": {},
   "source": [
    "We import the `EstimatorV2` and `SamplerV2` primitives from `qiskit_aer.primitives`. Let us calculate the expectation value of the previous circuit with the observable\n",
    "\n",
    "$$O = XXXXX + \\frac{1}{2} XYXYX - ZZZZZ - \\frac{1}{4}ZXZXZ.$$\n",
    "\n",
    "This primitives require circuits and observables to be transformed to only use instructions supported by the `Backend`, referred to as **instruction set architecture** (ISA) circuits and observables.\n",
    "\n",
    "* An ISA circuit is a `QuantumCircuit` satisfying:\n",
    "    * The same number of qubits as the backend.\n",
    "    * Only contains gates from the basis gates of the backend.\n",
    "    * Satisfies the connectivity of the backend.\n",
    "\n",
    "An ISA circuit is typically obtained via transpilation.\n",
    "\n",
    "* An ISA observable is an observable such that\n",
    "    * It corresponds to a linear combination of Pauli operators with real coefficients.\n",
    "    * Each Pauli operator is defined on the same number of qubits as an ISA circuit.\n",
    "\n",
    "For a given observable, we need to apply the layout of a transpiled circuit to map the observable qubits. For `SparsePauliOp` operator classes, this can be done through the `observable.apply_layout()` method (this will become relevant when discussing `qiskit_ibm_runtime.primitives`)."
   ]
  },
  {
   "cell_type": "code",
   "execution_count": null,
   "metadata": {},
   "outputs": [],
   "source": [
    "from qiskit.transpiler import generate_preset_pass_manager\n",
    "from qiskit_aer import AerSimulator\n",
    "from qiskit_aer.primitives import EstimatorV2 as EstimatorAer       # Choose a different name to avoid confusion with the previous Estimator class\n",
    "\n",
    "observable = SparsePauliOp([\"X\"*n_qubits, \"XYXYX\", \"Z\"*n_qubits, \"ZXZXZ\"], coeffs=[1, 0.5, -1, -0.25])               # We can multiply a string with a number -> \"X\"*n_qubits = \"XXXXX\"\n",
    "\n",
    "num_params = qc_su2.num_parameters                  # We can get the number of parameters from the circuit using this method\n",
    "np.random.seed(0)                                   # We set the seed to get reproducible results\n",
    "params = 2*np.pi*np.random.rand(num_params)         # We generate random values for the parameters\n",
    "\n",
    "backend = AerSimulator()\n",
    "exact_estimator = EstimatorAer()\n",
    "\n",
    "pm = generate_preset_pass_manager(backend=backend)\n",
    "qc_trans = pm.run(qc_su2)                           # Transpile to get a ISA circuit\n",
    "\n",
    "pub = (qc_trans, observable, params)                # We define the pub\n",
    "job = exact_estimator.run([pub], precision=0.0)\n",
    "result = job.result()\n",
    "pub_result = result[0]\n",
    "exact_value = float(pub_result.data.evs)\n",
    "std = float(pub_result.data.stds)\n",
    "\n",
    "print(f'Exact Expectation Value: {exact_value}')\n",
    "print(f'Standard Deviation: {std}')"
   ]
  },
  {
   "cell_type": "markdown",
   "metadata": {},
   "source": [
    "Let us consider now a `NoiseModel` which adds a depolarizing error of $1\\%$ to each $CNOT$ gate. In practice, the error arising from the two-qubit gates are the dominant source of error when running a circuit. We can include this `NoiseModel` directly into our Estimator through the `options` parameter (which will be studied further later)."
   ]
  },
  {
   "cell_type": "code",
   "execution_count": null,
   "metadata": {},
   "outputs": [],
   "source": [
    "from qiskit_aer.noise import NoiseModel, depolarizing_error\n",
    "\n",
    "noise_model = NoiseModel()\n",
    "\n",
    "cx_depolarizing_prob = 0.01\n",
    "dep_error = depolarizing_error(cx_depolarizing_prob, 2)\n",
    "noise_model.add_all_qubit_quantum_error(dep_error, [\"cx\"])\n",
    "\n",
    "options = dict(backend_options=dict(noise_model=noise_model))\n",
    "print(options)"
   ]
  },
  {
   "cell_type": "code",
   "execution_count": null,
   "metadata": {},
   "outputs": [],
   "source": [
    "noisy_estimator = EstimatorAer(options=options)\n",
    "\n",
    "job = noisy_estimator.run([pub], precision=0.0)       # The standard deviation will be equivalent to the precision for the Aer Estimator\n",
    "result = job.result()\n",
    "pub_result = result[0]\n",
    "noisy_value = float(pub_result.data.evs)\n",
    "std = float(pub_result.data.stds)\n",
    "\n",
    "print(f'Exact Expectation Value: {exact_value}')\n",
    "print(f'Noisy Expectation Value: {noisy_value}')\n",
    "print(f'Standard Deviation: {std}')\n",
    "print(f'Absolute Error: {np.abs(noisy_value-exact_value)}')"
   ]
  },
  {
   "cell_type": "markdown",
   "metadata": {},
   "source": [
    "We can add error to the Sampler in a similar manner. Lets compare the measurements outputs for a GHZ state of $5$ qubits, with the same depolarizing error on each $CNOT$.\n",
    "\n",
    "$$| GHZ_5 \\rangle = \\frac{1}{\\sqrt{2}} \\left(| 00000 \\rangle + | 11111 \\rangle  \\right)$$"
   ]
  },
  {
   "cell_type": "code",
   "execution_count": null,
   "metadata": {},
   "outputs": [],
   "source": [
    "from qiskit_aer.primitives import SamplerV2 as SamplerAer\n",
    "\n",
    "shots = 10000\n",
    "qc_ghz5 = QuantumCircuit(n_qubits)\n",
    "qc_ghz5.h(0)\n",
    "qc_ghz5.cx(0, 1)\n",
    "qc_ghz5.cx(1, 2)\n",
    "qc_ghz5.cx(2, 3)\n",
    "qc_ghz5.cx(3, 4)\n",
    "qc_ghz5.measure_all()\n",
    "qc_ghz5.draw(\"mpl\")"
   ]
  },
  {
   "cell_type": "code",
   "execution_count": null,
   "metadata": {},
   "outputs": [],
   "source": [
    "pm = generate_preset_pass_manager(backend=backend)\n",
    "qc_trans = pm.run(qc_ghz5) \n",
    "\n",
    "pub = (qc_trans, [], shots)                 # we define the pub, without parameters\n",
    "\n",
    "sampler = SamplerAer()\n",
    "job = sampler.run([pub])\n",
    "result = job.result()\n",
    "pub_result = result[0]\n",
    "counts = pub_result.data.meas.get_counts()"
   ]
  },
  {
   "cell_type": "code",
   "execution_count": null,
   "metadata": {},
   "outputs": [],
   "source": [
    "noisy_sampler = SamplerAer(options=options)     # Adds the previously defined depolarizing noise\n",
    "\n",
    "pub = (qc_trans, [], shots)\n",
    "job = noisy_sampler.run([pub])\n",
    "result = job.result()\n",
    "pub_result = result[0]\n",
    "counts_noise = pub_result.data.meas.get_counts()"
   ]
  },
  {
   "cell_type": "code",
   "execution_count": null,
   "metadata": {},
   "outputs": [],
   "source": [
    "from qiskit.visualization import plot_histogram\n",
    "\n",
    "legend = ['Counts', 'Noisy Counts']\n",
    "plot_histogram([counts, counts_noise], legend=legend, sort='value_desc', number_to_keep=10)"
   ]
  }
 ],
 "metadata": {
  "kernelspec": {
   "display_name": "qiskit-course",
   "language": "python",
   "name": "python3"
  },
  "language_info": {
   "codemirror_mode": {
    "name": "ipython",
    "version": 3
   },
   "file_extension": ".py",
   "mimetype": "text/x-python",
   "name": "python",
   "nbconvert_exporter": "python",
   "pygments_lexer": "ipython3",
   "version": "3.12.8"
  }
 },
 "nbformat": 4,
 "nbformat_minor": 2
}
